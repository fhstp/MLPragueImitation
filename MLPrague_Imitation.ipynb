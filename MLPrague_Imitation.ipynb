{
 "cells": [
  {
   "cell_type": "code",
   "execution_count": 1,
   "metadata": {
    "id": "JGZjSK6TSMdD"
   },
   "outputs": [],
   "source": [
    "from imitation_workshop.iqlearn import IQLearn\n",
    "from imitation_gym_wrappers.recorder_wrapper import RecorderWrapper\n",
    "import imitation_workshop.envs\n",
    "import gymnasium as gym\n",
    "\n",
    "def regularizer(x):\n",
    "  return x**2/40\n",
    "\n",
    "device = 'cuda'\n",
    "env = gym.make(\"InternalStateCarRacing-v0\")\n",
    "iqlearn = IQLearn(env, regularizer=regularizer, sac_args={'device': device})\n"
   ]
  },
  {
   "cell_type": "code",
   "execution_count": 2,
   "metadata": {
    "id": "_Gbz3kqr1JLs"
   },
   "outputs": [],
   "source": [
    "recording_name = 'recordings/recording'\n",
    "\n",
    "recorder = RecorderWrapper(env, 10000)\n",
    "recorder.load_buffer(recording_name)\n",
    "iqlearn.set_demonstration_buffer(recorder.get_sb3_buffer())"
   ]
  },
  {
   "cell_type": "code",
   "execution_count": null,
   "metadata": {
    "colab": {
     "base_uri": "https://localhost:8080/",
     "height": 34,
     "referenced_widgets": [
      "debfe38d40164c6898f9e125fc6121d2",
      "766869cecf7d4bc5a0ca0a2acc5d8363"
     ]
    },
    "id": "vYib_81EUM98",
    "outputId": "0cbb4759-e4ab-46ac-fdd5-981abf1feed6"
   },
   "outputs": [],
   "source": [
    "iqlearn.learn(5000)"
   ]
  },
  {
   "cell_type": "code",
   "execution_count": null,
   "metadata": {
    "id": "BOJnSd_lVlZr"
   },
   "outputs": [],
   "source": [
    "import pickle\n",
    "\n",
    "agent_name = 'carracing'\n",
    "with open(f'agents/{agent_name}_{iqlearn.global_step}.agent', 'wb') as f:\n",
    "  pickle.dump(iqlearn, f)"
   ]
  },
  {
   "cell_type": "code",
   "execution_count": 3,
   "metadata": {
    "id": "ML2Efo-ee-sh"
   },
   "outputs": [
    {
     "data": {
      "text/plain": [
       "Actor(\n",
       "  (fc1): Linear(in_features=10, out_features=32, bias=True)\n",
       "  (fc2): Linear(in_features=32, out_features=32, bias=True)\n",
       "  (fc3): Linear(in_features=32, out_features=32, bias=True)\n",
       "  (fc_mean): Linear(in_features=32, out_features=2, bias=True)\n",
       "  (fc_logstd): Linear(in_features=32, out_features=2, bias=True)\n",
       ")"
      ]
     },
     "execution_count": 3,
     "metadata": {},
     "output_type": "execute_result"
    }
   ],
   "source": [
    "import pickle\n",
    "with open('agents/carracing_45693.agent', 'rb') as f:\n",
    "    iqlearn = pickle.load(f)\n",
    "iqlearn.actor.to(device)"
   ]
  },
  {
   "cell_type": "code",
   "execution_count": 18,
   "metadata": {},
   "outputs": [],
   "source": [
    "from stable_baselines3 import SAC\n",
    "import torch\n",
    "import time\n",
    "\n",
    "class KLShaping(gym.Wrapper):\n",
    "    def __init__(self, env, iqlearn, mu=1):\n",
    "        super().__init__(env)\n",
    "        self.iqlearn = iqlearn\n",
    "        self.model = None\n",
    "        self.mu = mu\n",
    "\n",
    "    def set_model(self, sac):\n",
    "        self.model = sac\n",
    "\n",
    "    def step(self, action):\n",
    "        obs, reward, terminated, truncated, info = super().step(action)\n",
    "\n",
    "        torch_obs = torch.Tensor(obs).unsqueeze(0).to(device)\n",
    "        \n",
    "        iqlearn_mean, iqlearn_log_std = self.iqlearn.actor(torch_obs)\n",
    "        iqlearn_std = iqlearn_log_std.exp()\n",
    "\n",
    "        model_mean, model_log_std = self.model.actor(torch_obs)\n",
    "        model_std = model_log_std.exp()\n",
    "\n",
    "        # from https://mr-easy.github.io/2020-04-16-kl-divergence-between-2-gaussian-distributions, but summing as two univariate\n",
    "        kl_divergence = torch.log(iqlearn_std/model_std) - 1 + (model_mean-iqlearn_mean)**2/iqlearn_std + model_std/iqlearn_std\n",
    "        kl_divergence = 0.5*kl_divergence.detach().cpu().numpy().sum()\n",
    "\n",
    "        self.model.writer.add_scalar(\"train/kl_divergence\", \n",
    "                                     kl_divergence,               \n",
    "                                     self.model.n_updates)\n",
    "        self.model.writer.add_scalar(\"train/reward\", \n",
    "                                     reward,               \n",
    "                                     self.model.n_updates)\n",
    "        \n",
    "        reward -= self.mu * kl_divergence\n",
    "        \n",
    "        return obs, reward, terminated, truncated, info\n",
    "        \n",
    "\n",
    "shaping_env = KLShaping(env, iqlearn, 0.0)\n",
    "sac = IQLearn(shaping_env, sac_args={'use_targets': True, 'buffer_size': 10000, 'tau': 0.0005, 'device': device})\n",
    "sac.actor.load_state_dict(iqlearn.actor.state_dict())\n",
    "sac.actor_optimizer = torch.optim.Adam(\n",
    "    list(sac.actor.parameters()), lr=0.0\n",
    ")\n",
    "sac.a_optimizer = torch.optim.Adam([sac.log_alpha], lr=0.0)\n",
    "\n",
    "\n",
    "shaping_env.set_model(sac)"
   ]
  },
  {
   "cell_type": "code",
   "execution_count": 27,
   "metadata": {},
   "outputs": [
    {
     "data": {
      "application/vnd.jupyter.widget-view+json": {
       "model_id": "acffdd5b31c044e8b8340bd5a23a6e80",
       "version_major": 2,
       "version_minor": 0
      },
      "text/plain": [
       "Output()"
      ]
     },
     "metadata": {},
     "output_type": "display_data"
    },
    {
     "data": {
      "text/html": [
       "<pre style=\"white-space:pre;overflow-x:auto;line-height:normal;font-family:Menlo,'DejaVu Sans Mono',consolas,'Courier New',monospace\"></pre>\n"
      ],
      "text/plain": []
     },
     "metadata": {},
     "output_type": "display_data"
    }
   ],
   "source": [
    "sac.sac_learn(10000)"
   ]
  },
  {
   "cell_type": "code",
   "execution_count": 21,
   "metadata": {},
   "outputs": [],
   "source": [
    "sac.recreate_optimizers()"
   ]
  },
  {
   "cell_type": "code",
   "execution_count": null,
   "metadata": {},
   "outputs": [
    {
     "data": {
      "application/vnd.jupyter.widget-view+json": {
       "model_id": "022e641bb31f46518da89e5fcae27dc9",
       "version_major": 2,
       "version_minor": 0
      },
      "text/plain": [
       "Output()"
      ]
     },
     "metadata": {},
     "output_type": "display_data"
    },
    {
     "data": {
      "text/html": [
       "<pre style=\"white-space:pre;overflow-x:auto;line-height:normal;font-family:Menlo,'DejaVu Sans Mono',consolas,'Courier New',monospace\"></pre>\n"
      ],
      "text/plain": []
     },
     "metadata": {},
     "output_type": "display_data"
    }
   ],
   "source": []
  },
  {
   "cell_type": "code",
   "execution_count": 26,
   "metadata": {},
   "outputs": [],
   "source": [
    "import pickle\n",
    "\n",
    "agent_name = 'sac'\n",
    "with open(f'agents/{agent_name}_{sac.n_updates}.agent', 'wb') as f:\n",
    "  pickle.dump(sac, f)"
   ]
  },
  {
   "cell_type": "code",
   "execution_count": 9,
   "metadata": {},
   "outputs": [
    {
     "data": {
      "text/plain": [
       "5000"
      ]
     },
     "execution_count": 9,
     "metadata": {},
     "output_type": "execute_result"
    }
   ],
   "source": [
    "model.n_updates"
   ]
  },
  {
   "cell_type": "code",
   "execution_count": null,
   "metadata": {},
   "outputs": [],
   "source": []
  }
 ],
 "metadata": {
  "accelerator": "GPU",
  "colab": {
   "gpuType": "T4",
   "provenance": []
  },
  "kernelspec": {
   "display_name": "Python 3 (ipykernel)",
   "language": "python",
   "name": "python3"
  },
  "language_info": {
   "codemirror_mode": {
    "name": "ipython",
    "version": 3
   },
   "file_extension": ".py",
   "mimetype": "text/x-python",
   "name": "python",
   "nbconvert_exporter": "python",
   "pygments_lexer": "ipython3",
   "version": "3.12.9"
  },
  "widgets": {
   "application/vnd.jupyter.widget-state+json": {
    "766869cecf7d4bc5a0ca0a2acc5d8363": {
     "model_module": "@jupyter-widgets/base",
     "model_module_version": "1.2.0",
     "model_name": "LayoutModel",
     "state": {
      "_model_module": "@jupyter-widgets/base",
      "_model_module_version": "1.2.0",
      "_model_name": "LayoutModel",
      "_view_count": null,
      "_view_module": "@jupyter-widgets/base",
      "_view_module_version": "1.2.0",
      "_view_name": "LayoutView",
      "align_content": null,
      "align_items": null,
      "align_self": null,
      "border": null,
      "bottom": null,
      "display": null,
      "flex": null,
      "flex_flow": null,
      "grid_area": null,
      "grid_auto_columns": null,
      "grid_auto_flow": null,
      "grid_auto_rows": null,
      "grid_column": null,
      "grid_gap": null,
      "grid_row": null,
      "grid_template_areas": null,
      "grid_template_columns": null,
      "grid_template_rows": null,
      "height": null,
      "justify_content": null,
      "justify_items": null,
      "left": null,
      "margin": null,
      "max_height": null,
      "max_width": null,
      "min_height": null,
      "min_width": null,
      "object_fit": null,
      "object_position": null,
      "order": null,
      "overflow": null,
      "overflow_x": null,
      "overflow_y": null,
      "padding": null,
      "right": null,
      "top": null,
      "visibility": null,
      "width": null
     }
    },
    "debfe38d40164c6898f9e125fc6121d2": {
     "model_module": "@jupyter-widgets/output",
     "model_module_version": "1.0.0",
     "model_name": "OutputModel",
     "state": {
      "_dom_classes": [],
      "_model_module": "@jupyter-widgets/output",
      "_model_module_version": "1.0.0",
      "_model_name": "OutputModel",
      "_view_count": null,
      "_view_module": "@jupyter-widgets/output",
      "_view_module_version": "1.0.0",
      "_view_name": "OutputView",
      "layout": "IPY_MODEL_766869cecf7d4bc5a0ca0a2acc5d8363",
      "msg_id": "",
      "outputs": [
       {
        "data": {
         "text/html": "<pre style=\"white-space:pre;overflow-x:auto;line-height:normal;font-family:Menlo,'DejaVu Sans Mono',consolas,'Courier New',monospace\"><span style=\"color: #800080; text-decoration-color: #800080\"> 100%</span> <span style=\"color: #f92672; text-decoration-color: #f92672\">━━━━━━━━━━━━━━━━━━━━━━━━━━━━━━━━━━━━━━━━━━━━━━━━━━━━━━━━━━━━━━━╸</span> <span style=\"color: #008000; text-decoration-color: #008000\">4,995/5,000 </span> [ <span style=\"color: #808000; text-decoration-color: #808000\">0:01:45</span> &lt; <span style=\"color: #008080; text-decoration-color: #008080\">0:00:01</span> , <span style=\"color: #800000; text-decoration-color: #800000\">45 it/s</span> ]\n</pre>\n",
         "text/plain": "\u001b[35m 100%\u001b[0m \u001b[38;2;249;38;114m━━━━━━━━━━━━━━━━━━━━━━━━━━━━━━━━━━━━━━━━━━━━━━━━━━━━━━━━━━━━━━━\u001b[0m\u001b[38;2;249;38;114m╸\u001b[0m \u001b[32m4,995/5,000 \u001b[0m [ \u001b[33m0:01:45\u001b[0m < \u001b[36m0:00:01\u001b[0m , \u001b[31m45 it/s\u001b[0m ]\n"
        },
        "metadata": {},
        "output_type": "display_data"
       }
      ]
     }
    }
   }
  }
 },
 "nbformat": 4,
 "nbformat_minor": 4
}
